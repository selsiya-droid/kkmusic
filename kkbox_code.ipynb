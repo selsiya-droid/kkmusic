{
  "nbformat": 4,
  "nbformat_minor": 0,
  "metadata": {
    "colab": {
      "name": "kkbox code.ipynb",
      "provenance": [],
      "collapsed_sections": [],
      "authorship_tag": "ABX9TyP1wWdAsxxVl9MFJEQF/r0j",
      "include_colab_link": true
    },
    "kernelspec": {
      "name": "python3",
      "display_name": "Python 3"
    },
    "accelerator": "GPU"
  },
  "cells": [
    {
      "cell_type": "markdown",
      "metadata": {
        "id": "view-in-github",
        "colab_type": "text"
      },
      "source": [
        "<a href=\"https://colab.research.google.com/github/selsiya-droid/kkmusic/blob/master/kkbox_code.ipynb\" target=\"_parent\"><img src=\"https://colab.research.google.com/assets/colab-badge.svg\" alt=\"Open In Colab\"/></a>"
      ]
    },
    {
      "cell_type": "code",
      "metadata": {
        "id": "l3n2tlN4BH4d",
        "colab_type": "code",
        "colab": {}
      },
      "source": [
        "import numpy as np \n",
        "import pandas as pd \n",
        "members = pd.read_csv('/content/drive/My Drive/selsiya/members.csv')\n",
        "members.head()"
      ],
      "execution_count": 0,
      "outputs": []
    },
    {
      "cell_type": "code",
      "metadata": {
        "id": "TCnKNAQSBwj6",
        "colab_type": "code",
        "colab": {}
      },
      "source": [
        "members.shape"
      ],
      "execution_count": 0,
      "outputs": []
    },
    {
      "cell_type": "code",
      "metadata": {
        "id": "6D8LEJ5-B_EH",
        "colab_type": "code",
        "colab": {}
      },
      "source": [
        "import seaborn as sns\n",
        "import matplotlib.pyplot as plt\n",
        "\n",
        "f,axarray = plt.subplots(1,1,figsize=(15,10))\n",
        "agehist = members.groupby(['bd'],as_index=False).count()\n",
        "sns.barplot(x=agehist['bd'],y=agehist['gender'])"
      ],
      "execution_count": 0,
      "outputs": []
    },
    {
      "cell_type": "code",
      "metadata": {
        "id": "_k7AZKYvCK9K",
        "colab_type": "code",
        "colab": {}
      },
      "source": [
        "f,axarray = plt.subplots(1,1,figsize=(15,10))\n",
        "cityhist = members.groupby(['city'],as_index=False).count()\n",
        "sns.barplot(x=cityhist['city'],y=cityhist['gender'])"
      ],
      "execution_count": 0,
      "outputs": []
    },
    {
      "cell_type": "code",
      "metadata": {
        "id": "LqdSDvjBCRu5",
        "colab_type": "code",
        "colab": {}
      },
      "source": [
        "import numpy as np \n",
        "import pandas as pd \n",
        "songs = pd.read_csv('/content/drive/My Drive/selsiya/songs.csv')\n",
        "songs.head()"
      ],
      "execution_count": 0,
      "outputs": []
    },
    {
      "cell_type": "code",
      "metadata": {
        "id": "v8OdM-jBCawl",
        "colab_type": "code",
        "colab": {}
      },
      "source": [
        "print (\"There are:\",len(songs),\"songs;\",len(songs['composer'].unique()),\n",
        "       \"composers for\",len(songs['genre_ids'].unique()),\"genres in\",\n",
        "      len(songs['language'].unique()),\"languages\")"
      ],
      "execution_count": 0,
      "outputs": []
    },
    {
      "cell_type": "code",
      "metadata": {
        "id": "8QO8CZoQCggr",
        "colab_type": "code",
        "colab": {}
      },
      "source": [
        "import numpy as np \n",
        "import pandas as pd \n",
        "train = pd.read_csv('/content/drive/My Drive/selsiya/train.csv')\n",
        "train.head()"
      ],
      "execution_count": 0,
      "outputs": []
    },
    {
      "cell_type": "code",
      "metadata": {
        "id": "Q3VUqXP-CkPW",
        "colab_type": "code",
        "colab": {}
      },
      "source": [
        "df = train.merge(members,how='inner',on='msno')\n",
        "df = df.merge(songs,how='inner',on='song_id')\n",
        "df.head()"
      ],
      "execution_count": 0,
      "outputs": []
    },
    {
      "cell_type": "code",
      "metadata": {
        "id": "26WM68FuCqWp",
        "colab_type": "code",
        "colab": {}
      },
      "source": [
        "df.shape"
      ],
      "execution_count": 0,
      "outputs": []
    },
    {
      "cell_type": "code",
      "metadata": {
        "id": "jA90SQiOCwGS",
        "colab_type": "code",
        "colab": {}
      },
      "source": [
        "import numpy as np \n",
        "import pandas as pd \n",
        "cities = df['city'].unique()\n",
        "ca = []\n",
        "for c in cities:\n",
        "    ages = []\n",
        "    tmp = df[df['city']==c].groupby(['bd'],as_index=False).count()\n",
        "    for i in range(60):\n",
        "        if i in tmp['bd'].values:\n",
        "            if i ==0:\n",
        "                ages.append(0)\n",
        "            else:\n",
        "                ages.append(tmp[tmp['bd']==i].values[0][1])\n",
        "        else:\n",
        "            ages.append(0)\n",
        "    ca.append(ages)\n",
        "cadf = pd.DataFrame(ca)"
      ],
      "execution_count": 0,
      "outputs": []
    },
    {
      "cell_type": "code",
      "metadata": {
        "id": "fcJp9DOXC53K",
        "colab_type": "code",
        "colab": {}
      },
      "source": [
        "f,axarray = plt.subplots(1,1,figsize=(13,8))\n",
        "sns.heatmap(cadf)"
      ],
      "execution_count": 0,
      "outputs": []
    },
    {
      "cell_type": "code",
      "metadata": {
        "id": "HqxuOkzSDD5F",
        "colab_type": "code",
        "colab": {}
      },
      "source": [
        "import numpy as np \n",
        "import pandas as pd \n",
        "fdf = df[np.abs(df['bd']-df['bd'].mean())<=(3*df['bd'].std())]\n",
        "cities = fdf['city'].unique()\n",
        "ca = []\n",
        "for c in cities:\n",
        "    ages = []\n",
        "    tmp = fdf[fdf['city']==c]['bd'].values\n",
        "    ages.append(tmp)\n",
        "    ca.append(ages)\n",
        "cadf = pd.DataFrame(ca)\n",
        "f,axarray = plt.subplots(21,1,figsize=(20,38),sharex=True)\n",
        "plt.xlim(10,60)\n",
        "for i in range(21):\n",
        "    axarray[i].set_title('Members Ages in City '+str(i))\n",
        "    sns.distplot(ca[i], hist=False, color=\"purple\", kde_kws={\"shade\": True},ax=axarray[i])"
      ],
      "execution_count": 0,
      "outputs": []
    },
    {
      "cell_type": "code",
      "metadata": {
        "id": "v6s409XNDJ4i",
        "colab_type": "code",
        "colab": {}
      },
      "source": [
        "df['registration_init_time'] = pd.to_datetime(df['registration_init_time'],format=\"%Y%m%d\")\n",
        "df['expiration_date'] = pd.to_datetime(df['expiration_date'],format=\"%Y%m%d\")\n",
        "df.head()"
      ],
      "execution_count": 0,
      "outputs": []
    },
    {
      "cell_type": "code",
      "metadata": {
        "id": "U5joDdqhDbLh",
        "colab_type": "code",
        "colab": {}
      },
      "source": [
        "days = df.expiration_date - df.registration_init_time\n",
        "days = [d.days for d in days]\n",
        "df['days']=days\n",
        "np.max(days)"
      ],
      "execution_count": 0,
      "outputs": []
    },
    {
      "cell_type": "code",
      "metadata": {
        "id": "EYEeem3DDcbV",
        "colab_type": "code",
        "colab": {}
      },
      "source": [
        "df.head()"
      ],
      "execution_count": 0,
      "outputs": []
    },
    {
      "cell_type": "code",
      "metadata": {
        "id": "fWBuYeaUDjup",
        "colab_type": "code",
        "colab": {}
      },
      "source": [
        "fdf = df[np.abs(df['days']-df['days'].mean())<=(3*df['days'].std())]\n",
        "dayshist = df.groupby(['days'],as_index=False).count()\n",
        "dayshist = dayshist.drop(0,axis=0)\n",
        "sns.distplot(dayshist['days'], hist=True, color=\"g\", kde_kws={\"shade\": True})"
      ],
      "execution_count": 0,
      "outputs": []
    },
    {
      "cell_type": "code",
      "metadata": {
        "id": "hRRldHQWDwMj",
        "colab_type": "code",
        "colab": {}
      },
      "source": [
        "cities = fdf['city'].unique()\n",
        "cduration = []\n",
        "for c in cities:\n",
        "    duration = []\n",
        "    tmp = fdf[fdf['city']==c]['days']\n",
        "    cduration.append(tmp)"
      ],
      "execution_count": 0,
      "outputs": []
    },
    {
      "cell_type": "code",
      "metadata": {
        "id": "1kuCwcxnD9EJ",
        "colab_type": "code",
        "colab": {}
      },
      "source": [
        "f,axarray = plt.subplots(21,1,figsize=(20,38),sharex=True)\n",
        "for i in range(21):\n",
        "    axarray[i].set_title('Subscription Durations in City '+str(i))\n",
        "    sns.distplot(cduration[i], hist=False, color=\"g\", kde_kws={\"shade\": True},ax=axarray[i])"
      ],
      "execution_count": 0,
      "outputs": []
    },
    {
      "cell_type": "code",
      "metadata": {
        "id": "FqAv6G_bD-e9",
        "colab_type": "code",
        "colab": {}
      },
      "source": [
        "malec = len(df[df['gender']=='male'])\n",
        "femalec = len(df[df['gender']=='female'])\n",
        "f,axarray = plt.subplots(1,1,figsize=(8,5))\n",
        "sns.barplot(x=['male','female'],y=[malec,femalec])"
      ],
      "execution_count": 0,
      "outputs": []
    }
  ]
}